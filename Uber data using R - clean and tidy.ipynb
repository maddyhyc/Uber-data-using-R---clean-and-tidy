{
 "cells": [
  {
   "cell_type": "code",
   "execution_count": null,
   "metadata": {},
   "outputs": [],
   "source": [
    "# Set working drive\n",
    "setwd(\"/Users/......................\")"
   ]
  },
  {
   "cell_type": "code",
   "execution_count": null,
   "metadata": {},
   "outputs": [],
   "source": [
    "library(dplyr)\n",
    "library(lubridate)\n",
    "library(readxl)\n",
    "library(tidyr)\n",
    "library(openxlsx)\n",
    "library(tidy)"
   ]
  },
  {
   "cell_type": "code",
   "execution_count": null,
   "metadata": {},
   "outputs": [],
   "source": [
    "# Read in Uber data\n",
    "uber <- read_excel(\"Uber_peru_2010.xlsx\", 3) \n",
    "uber.df = as.data.frame(uber)"
   ]
  },
  {
   "cell_type": "code",
   "execution_count": null,
   "metadata": {},
   "outputs": [],
   "source": [
    "# Check out data \n",
    "str(uber.df)"
   ]
  },
  {
   "cell_type": "code",
   "execution_count": null,
   "metadata": {},
   "outputs": [],
   "source": [
    "head(uber.df)"
   ]
  },
  {
   "cell_type": "code",
   "execution_count": null,
   "metadata": {},
   "outputs": [],
   "source": [
    "# Eliminate unwanted columns\n",
    "uber <- uber.df %>% select(-c(journey_id, user_id, driver_id, taxi_id, currency, ...29))"
   ]
  },
  {
   "cell_type": "code",
   "execution_count": null,
   "metadata": {},
   "outputs": [],
   "source": [
    "# Check uber again\n",
    "str(uber)"
   ]
  },
  {
   "cell_type": "code",
   "execution_count": null,
   "metadata": {},
   "outputs": [],
   "source": [
    "# Extracting from start and end datetimes using lubridate\n",
    "uber <- uber %>%\n",
    "  mutate(\n",
    "    Start_Yr = year(`start_at`),\n",
    "    Start_Mth = month(`start_at`),\n",
    "    Start_Hr = hour(`start_at`)\n",
    "  )\n",
    "\n",
    "uber <- uber %>%\n",
    "  mutate(\n",
    "    End_Yr = year(`end_at`),\n",
    "    End_Mth = month(`end_at`),\n",
    "    End_Hr = hour(`end_at`)\n",
    "  )"
   ]
  },
  {
   "cell_type": "code",
   "execution_count": null,
   "metadata": {},
   "outputs": [],
   "source": [
    "# Check uber data\n",
    "str(uber)"
   ]
  },
  {
   "cell_type": "code",
   "execution_count": null,
   "metadata": {},
   "outputs": [],
   "source": [
    "# Import in 2010 Temperature records\n",
    "Temp <- read_excel(\"Peru 2010 Temp.xlsx\", 1) \n",
    "Temp <- as.data.frame(Temp)"
   ]
  },
  {
   "cell_type": "code",
   "execution_count": null,
   "metadata": {},
   "outputs": [],
   "source": [
    "# Check Temp\n",
    "str(Temp)\n",
    "head(Temp)"
   ]
  },
  {
   "cell_type": "code",
   "execution_count": null,
   "metadata": {
    "scrolled": true
   },
   "outputs": [],
   "source": [
    "# Tidy Temp \n",
    "Temp2 <- Temp %>% pivot_longer(c('Min', 'Average', 'Max'))%>% select(-Year) "
   ]
  },
  {
   "cell_type": "code",
   "execution_count": null,
   "metadata": {},
   "outputs": [],
   "source": [
    "# Check Temp data\n",
    "head(Temp2)"
   ]
  },
  {
   "cell_type": "code",
   "execution_count": null,
   "metadata": {},
   "outputs": [],
   "source": [
    "# Rename Temp columns\n",
    "colnames(Temp2) <- c('Month', 'Time', 'Temp')"
   ]
  },
  {
   "cell_type": "code",
   "execution_count": null,
   "metadata": {},
   "outputs": [],
   "source": [
    "# Check Temp data\n",
    "head(Temp2)"
   ]
  },
  {
   "cell_type": "code",
   "execution_count": null,
   "metadata": {},
   "outputs": [],
   "source": [
    "# Create variable for hours in Min, Max, Average in Uber\n",
    "for (i in 1:nrow(uber)){\n",
    "  if (between(uber$Start_Hr[i], 0, 7) | between(uber$Start_Hr[i], 22, 23)){\n",
    "    uber$`Time`[i] <- 'Min'\n",
    "  } else {\n",
    "    if (between(uber$Start_Hr[i], 12, 17)){\n",
    "      uber$`Time`[i] <- 'Max'\n",
    "    } else {\n",
    "      if (between(uber$Start_Hr[i], 8, 11) | between(uber$Start_Hr[i], 18, 21)){\n",
    "        uber$`Time`[i] <- 'Average'\n",
    "      } else {\n",
    "        uber$`Time`[i] <- 'NA'      \n",
    "      }\n",
    "    }\n",
    "  }\n",
    "}"
   ]
  },
  {
   "cell_type": "code",
   "execution_count": null,
   "metadata": {},
   "outputs": [],
   "source": [
    "# Check uber data\n",
    "head(uber)"
   ]
  },
  {
   "cell_type": "code",
   "execution_count": null,
   "metadata": {},
   "outputs": [],
   "source": [
    "# Lookup temperature in Temp2 table and merge into uber\n",
    "M <- merge(uber, Temp2, by.x = c(\"Start_Mth\", \"Time\"), by.y = c(\"Month\", \"Time\"), all.x = TRUE, all.y = FALSE)"
   ]
  },
  {
   "cell_type": "code",
   "execution_count": null,
   "metadata": {},
   "outputs": [],
   "source": [
    "# Check merged uber - Temp data\n",
    "head(M)"
   ]
  },
  {
   "cell_type": "code",
   "execution_count": null,
   "metadata": {},
   "outputs": [],
   "source": [
    "# Calculate travel time in seconds\n",
    "M$Interval <- interval(M$`start_at`,M$`end_at`)\n",
    "M$Travel <- int_length(M$Interval) # Interval in seconds"
   ]
  },
  {
   "cell_type": "code",
   "execution_count": null,
   "metadata": {},
   "outputs": [],
   "source": [
    "# Check M\n",
    "head(M)"
   ]
  },
  {
   "cell_type": "code",
   "execution_count": null,
   "metadata": {},
   "outputs": [],
   "source": [
    "colSums(is.na(M))"
   ]
  },
  {
   "cell_type": "code",
   "execution_count": null,
   "metadata": {},
   "outputs": [],
   "source": [
    "M <- M %>% filter(is.na(Travel) == F)"
   ]
  },
  {
   "cell_type": "code",
   "execution_count": null,
   "metadata": {
    "scrolled": true
   },
   "outputs": [],
   "source": [
    "# Check merged uber - Temp data\n",
    "head(M)"
   ]
  },
  {
   "cell_type": "code",
   "execution_count": null,
   "metadata": {},
   "outputs": [],
   "source": [
    "colSums(is.na(M))"
   ]
  }
 ],
 "metadata": {
  "kernelspec": {
   "display_name": "R",
   "language": "R",
   "name": "ir"
  },
  "language_info": {
   "codemirror_mode": "r",
   "file_extension": ".r",
   "mimetype": "text/x-r-source",
   "name": "R",
   "pygments_lexer": "r",
   "version": "3.6.1"
  }
 },
 "nbformat": 4,
 "nbformat_minor": 2
}
